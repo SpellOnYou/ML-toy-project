{
  "nbformat": 4,
  "nbformat_minor": 0,
  "metadata": {
    "colab": {
      "name": "onnx_to_meta.ipynb",
      "provenance": []
    },
    "kernelspec": {
      "name": "python3",
      "display_name": "Python 3"
    },
    "accelerator": "GPU"
  },
  "cells": [
    {
      "cell_type": "code",
      "metadata": {
        "id": "gDjE9B8MWz_d",
        "colab_type": "code",
        "colab": {}
      },
      "source": [
        "# !pip install tensorflow-gpu\n",
        "!pip install onnx\n",
        "# !pip install torch torchvision\n",
        "!git clone https://github.com/onnx/onnx-tensorflow.git"
      ],
      "execution_count": 0,
      "outputs": []
    },
    {
      "cell_type": "code",
      "metadata": {
        "id": "GCXm4dgyYCbc",
        "colab_type": "code",
        "colab": {}
      },
      "source": [
        "import os\n",
        "os.chdir('/content/onnx-tensorflow/')"
      ],
      "execution_count": 0,
      "outputs": []
    },
    {
      "cell_type": "code",
      "metadata": {
        "id": "q9WpO0yAYDcf",
        "colab_type": "code",
        "colab": {}
      },
      "source": [
        "!python setup.py install --user"
      ],
      "execution_count": 0,
      "outputs": []
    },
    {
      "cell_type": "code",
      "metadata": {
        "id": "9x_Bf884YXVK",
        "colab_type": "code",
        "colab": {
          "base_uri": "https://localhost:8080/",
          "height": 35
        },
        "outputId": "00866390-a80d-4b4e-d504-1c326575adb3"
      },
      "source": [
        "%tensorflow_version 2.x\n",
        "import tensorflow as tf\n",
        "tf.__version__"
      ],
      "execution_count": 2,
      "outputs": [
        {
          "output_type": "execute_result",
          "data": {
            "text/plain": [
              "'2.1.0'"
            ]
          },
          "metadata": {
            "tags": []
          },
          "execution_count": 2
        }
      ]
    },
    {
      "cell_type": "code",
      "metadata": {
        "id": "0AjybC1cWXvV",
        "colab_type": "code",
        "colab": {
          "base_uri": "https://localhost:8080/",
          "height": 72
        },
        "outputId": "9987131a-7f1a-44a0-9ec5-07b056f2c49d"
      },
      "source": [
        "from onnx_tf.backend import prepare #this module needs 2.x\n",
        "import onnx\n",
        "import logging"
      ],
      "execution_count": 3,
      "outputs": [
        {
          "output_type": "stream",
          "text": [
            "/root/.local/lib/python3.6/site-packages/onnx_tf-1.5.0-py3.6.egg/onnx_tf/common/__init__.py:89: UserWarning: onnx_tf.common.get_outputs_names is deprecated. It will be removed in future release. Use TensorflowGraph.get_outputs_names instead.\n",
            "  warnings.warn(message)\n"
          ],
          "name": "stderr"
        }
      ]
    },
    {
      "cell_type": "code",
      "metadata": {
        "id": "DOiDy1o7YsSZ",
        "colab_type": "code",
        "colab": {}
      },
      "source": [
        "log = logging.getLogger(__name__)\n",
        "logging.basicConfig(level=logging.INFO)"
      ],
      "execution_count": 0,
      "outputs": []
    },
    {
      "cell_type": "code",
      "metadata": {
        "id": "xczti540VaEK",
        "colab_type": "code",
        "colab": {}
      },
      "source": [
        "from pathlib import Path"
      ],
      "execution_count": 0,
      "outputs": []
    },
    {
      "cell_type": "code",
      "metadata": {
        "id": "2XerHZt4VStw",
        "colab_type": "code",
        "colab": {}
      },
      "source": [
        "onnxPath = Path('/content/model_simple.onnx')\n",
        "metaPath = Path('/content/model.meta')"
      ],
      "execution_count": 0,
      "outputs": []
    },
    {
      "cell_type": "code",
      "metadata": {
        "id": "MTIEJvQkU7qP",
        "colab_type": "code",
        "colab": {}
      },
      "source": [
        "def export_tf_meta(onnx_file, meta_file):\n",
        "    \"\"\"\n",
        "    Exports the ONNX model to a Tensorflow Proto file.\n",
        "    The exported file will have a .meta extension.\n",
        "    :param onnx_file: string, Path to the .onnx model file\n",
        "    :param meta_file: string, Path to the exported Tensorflow .meta file\n",
        "    :return: tuple, input and output tensor dictionaries. Dictionaries have a\n",
        "        {tensor_name: TF_Tensor_op} structure.\n",
        "    \"\"\"\n",
        "    model = onnx.load(onnx_file)\n",
        "\n",
        "    # Convert the ONNX model to a Tensorflow graph\n",
        "    tf_rep = prepare(model)\n",
        "    output_keys = tf_rep.outputs\n",
        "    input_keys = tf_rep.inputs\n",
        "\n",
        "    tf_dict = tf_rep.tensor_dict\n",
        "    input_tensor_names = {key: tf_dict[key] for key in input_keys}\n",
        "    output_tensor_names = {key: tf_dict[key] for key in output_keys}\n",
        "\n",
        "    tf_rep.export_graph(meta_file)\n",
        "    log.info(\"Exported Tensorflow proto file to {}\".format(meta_file))\n",
        "    return input_tensor_names, output_tensor_names"
      ],
      "execution_count": 0,
      "outputs": []
    },
    {
      "cell_type": "code",
      "metadata": {
        "id": "4D2TuU1PWPEk",
        "colab_type": "code",
        "colab": {
          "base_uri": "https://localhost:8080/",
          "height": 35
        },
        "outputId": "bfcff8fc-6a03-4edc-9316-35f7dc926bc4"
      },
      "source": [
        "!ls /content/"
      ],
      "execution_count": 10,
      "outputs": [
        {
          "output_type": "stream",
          "text": [
            "model.meta  model_simple.onnx  onnx-tensorflow\tsample_data\n"
          ],
          "name": "stdout"
        }
      ]
    },
    {
      "cell_type": "code",
      "metadata": {
        "id": "c4PMrbp-Zmfk",
        "colab_type": "code",
        "colab": {
          "base_uri": "https://localhost:8080/",
          "height": 1000
        },
        "outputId": "71f57a5e-c0df-4e37-d21b-f9fc248fcad6"
      },
      "source": [
        "input_tensors, output_tensors = export_tf_meta(onnxPath, metaPath)"
      ],
      "execution_count": 8,
      "outputs": [
        {
          "output_type": "stream",
          "text": [
            "/root/.local/lib/python3.6/site-packages/onnx_tf-1.5.0-py3.6.egg/onnx_tf/common/handler_helper.py:34: UserWarning: Fail to get since_version of BitShift in domain `` with max_inclusive_version=9. Set to 1.\n",
            "  handler.ONNX_OP, handler.DOMAIN, version))\n",
            "/root/.local/lib/python3.6/site-packages/onnx_tf-1.5.0-py3.6.egg/onnx_tf/common/handler_helper.py:37: UserWarning: Unknown op ConstantFill in domain `ai.onnx`.\n",
            "  handler.ONNX_OP, handler.DOMAIN or \"ai.onnx\"))\n",
            "/root/.local/lib/python3.6/site-packages/onnx_tf-1.5.0-py3.6.egg/onnx_tf/common/handler_helper.py:34: UserWarning: Fail to get since_version of ConvInteger in domain `` with max_inclusive_version=9. Set to 1.\n",
            "  handler.ONNX_OP, handler.DOMAIN, version))\n",
            "/root/.local/lib/python3.6/site-packages/onnx_tf-1.5.0-py3.6.egg/onnx_tf/common/handler_helper.py:34: UserWarning: Fail to get since_version of DequantizeLinear in domain `` with max_inclusive_version=9. Set to 1.\n",
            "  handler.ONNX_OP, handler.DOMAIN, version))\n",
            "/root/.local/lib/python3.6/site-packages/onnx_tf-1.5.0-py3.6.egg/onnx_tf/common/handler_helper.py:34: UserWarning: Fail to get since_version of Det in domain `` with max_inclusive_version=9. Set to 1.\n",
            "  handler.ONNX_OP, handler.DOMAIN, version))\n",
            "/root/.local/lib/python3.6/site-packages/onnx_tf-1.5.0-py3.6.egg/onnx_tf/common/handler_helper.py:34: UserWarning: Fail to get since_version of GatherND in domain `` with max_inclusive_version=9. Set to 1.\n",
            "  handler.ONNX_OP, handler.DOMAIN, version))\n",
            "/root/.local/lib/python3.6/site-packages/onnx_tf-1.5.0-py3.6.egg/onnx_tf/common/handler_helper.py:37: UserWarning: Unknown op ImageScaler in domain `ai.onnx`.\n",
            "  handler.ONNX_OP, handler.DOMAIN or \"ai.onnx\"))\n",
            "/root/.local/lib/python3.6/site-packages/onnx_tf-1.5.0-py3.6.egg/onnx_tf/common/handler_helper.py:34: UserWarning: Fail to get since_version of IsInf in domain `` with max_inclusive_version=9. Set to 1.\n",
            "  handler.ONNX_OP, handler.DOMAIN, version))\n",
            "/root/.local/lib/python3.6/site-packages/onnx_tf-1.5.0-py3.6.egg/onnx_tf/common/handler_helper.py:34: UserWarning: Fail to get since_version of MatMulInteger in domain `` with max_inclusive_version=9. Set to 1.\n",
            "  handler.ONNX_OP, handler.DOMAIN, version))\n",
            "/root/.local/lib/python3.6/site-packages/onnx_tf-1.5.0-py3.6.egg/onnx_tf/common/handler_helper.py:34: UserWarning: Fail to get since_version of Mod in domain `` with max_inclusive_version=9. Set to 1.\n",
            "  handler.ONNX_OP, handler.DOMAIN, version))\n",
            "/root/.local/lib/python3.6/site-packages/onnx_tf-1.5.0-py3.6.egg/onnx_tf/common/handler_helper.py:34: UserWarning: Fail to get since_version of NonMaxSuppression in domain `` with max_inclusive_version=9. Set to 1.\n",
            "  handler.ONNX_OP, handler.DOMAIN, version))\n",
            "/root/.local/lib/python3.6/site-packages/onnx_tf-1.5.0-py3.6.egg/onnx_tf/common/handler_helper.py:34: UserWarning: Fail to get since_version of QLinearConv in domain `` with max_inclusive_version=9. Set to 1.\n",
            "  handler.ONNX_OP, handler.DOMAIN, version))\n",
            "/root/.local/lib/python3.6/site-packages/onnx_tf-1.5.0-py3.6.egg/onnx_tf/common/handler_helper.py:34: UserWarning: Fail to get since_version of QLinearMatMul in domain `` with max_inclusive_version=9. Set to 1.\n",
            "  handler.ONNX_OP, handler.DOMAIN, version))\n",
            "/root/.local/lib/python3.6/site-packages/onnx_tf-1.5.0-py3.6.egg/onnx_tf/common/handler_helper.py:34: UserWarning: Fail to get since_version of QuantizeLinear in domain `` with max_inclusive_version=9. Set to 1.\n",
            "  handler.ONNX_OP, handler.DOMAIN, version))\n",
            "/root/.local/lib/python3.6/site-packages/onnx_tf-1.5.0-py3.6.egg/onnx_tf/common/handler_helper.py:34: UserWarning: Fail to get since_version of Range in domain `` with max_inclusive_version=9. Set to 1.\n",
            "  handler.ONNX_OP, handler.DOMAIN, version))\n",
            "/root/.local/lib/python3.6/site-packages/onnx_tf-1.5.0-py3.6.egg/onnx_tf/common/handler_helper.py:34: UserWarning: Fail to get since_version of Resize in domain `` with max_inclusive_version=9. Set to 1.\n",
            "  handler.ONNX_OP, handler.DOMAIN, version))\n",
            "/root/.local/lib/python3.6/site-packages/onnx_tf-1.5.0-py3.6.egg/onnx_tf/common/handler_helper.py:34: UserWarning: Fail to get since_version of ReverseSequence in domain `` with max_inclusive_version=9. Set to 1.\n",
            "  handler.ONNX_OP, handler.DOMAIN, version))\n",
            "/root/.local/lib/python3.6/site-packages/onnx_tf-1.5.0-py3.6.egg/onnx_tf/common/handler_helper.py:34: UserWarning: Fail to get since_version of Round in domain `` with max_inclusive_version=9. Set to 1.\n",
            "  handler.ONNX_OP, handler.DOMAIN, version))\n",
            "/root/.local/lib/python3.6/site-packages/onnx_tf-1.5.0-py3.6.egg/onnx_tf/common/handler_helper.py:34: UserWarning: Fail to get since_version of ScatterElements in domain `` with max_inclusive_version=9. Set to 1.\n",
            "  handler.ONNX_OP, handler.DOMAIN, version))\n",
            "/root/.local/lib/python3.6/site-packages/onnx_tf-1.5.0-py3.6.egg/onnx_tf/common/handler_helper.py:34: UserWarning: Fail to get since_version of ScatterND in domain `` with max_inclusive_version=9. Set to 1.\n",
            "  handler.ONNX_OP, handler.DOMAIN, version))\n",
            "/root/.local/lib/python3.6/site-packages/onnx_tf-1.5.0-py3.6.egg/onnx_tf/common/handler_helper.py:34: UserWarning: Fail to get since_version of SequenceAt in domain `` with max_inclusive_version=9. Set to 1.\n",
            "  handler.ONNX_OP, handler.DOMAIN, version))\n",
            "/root/.local/lib/python3.6/site-packages/onnx_tf-1.5.0-py3.6.egg/onnx_tf/common/handler_helper.py:34: UserWarning: Fail to get since_version of SequenceConstruct in domain `` with max_inclusive_version=9. Set to 1.\n",
            "  handler.ONNX_OP, handler.DOMAIN, version))\n",
            "/root/.local/lib/python3.6/site-packages/onnx_tf-1.5.0-py3.6.egg/onnx_tf/common/handler_helper.py:34: UserWarning: Fail to get since_version of SequenceEmpty in domain `` with max_inclusive_version=9. Set to 1.\n",
            "  handler.ONNX_OP, handler.DOMAIN, version))\n",
            "/root/.local/lib/python3.6/site-packages/onnx_tf-1.5.0-py3.6.egg/onnx_tf/common/handler_helper.py:34: UserWarning: Fail to get since_version of SequenceErase in domain `` with max_inclusive_version=9. Set to 1.\n",
            "  handler.ONNX_OP, handler.DOMAIN, version))\n",
            "/root/.local/lib/python3.6/site-packages/onnx_tf-1.5.0-py3.6.egg/onnx_tf/common/handler_helper.py:34: UserWarning: Fail to get since_version of SequenceInsert in domain `` with max_inclusive_version=9. Set to 1.\n",
            "  handler.ONNX_OP, handler.DOMAIN, version))\n",
            "/root/.local/lib/python3.6/site-packages/onnx_tf-1.5.0-py3.6.egg/onnx_tf/common/handler_helper.py:34: UserWarning: Fail to get since_version of SequenceLength in domain `` with max_inclusive_version=9. Set to 1.\n",
            "  handler.ONNX_OP, handler.DOMAIN, version))\n",
            "/root/.local/lib/python3.6/site-packages/onnx_tf-1.5.0-py3.6.egg/onnx_tf/common/handler_helper.py:34: UserWarning: Fail to get since_version of ThresholdedRelu in domain `` with max_inclusive_version=9. Set to 1.\n",
            "  handler.ONNX_OP, handler.DOMAIN, version))\n"
          ],
          "name": "stderr"
        },
        {
          "output_type": "stream",
          "text": [
            "WARNING:tensorflow:From /root/.local/lib/python3.6/site-packages/onnx_tf-1.5.0-py3.6.egg/onnx_tf/handlers/backend/reshape.py:30: sparse_to_dense (from tensorflow.python.ops.sparse_ops) is deprecated and will be removed in a future version.\n",
            "Instructions for updating:\n",
            "Create a `tf.sparse.SparseTensor` and use `tf.sparse.to_dense` instead.\n"
          ],
          "name": "stdout"
        },
        {
          "output_type": "stream",
          "text": [
            "WARNING:tensorflow:From /root/.local/lib/python3.6/site-packages/onnx_tf-1.5.0-py3.6.egg/onnx_tf/handlers/backend/reshape.py:30: sparse_to_dense (from tensorflow.python.ops.sparse_ops) is deprecated and will be removed in a future version.\n",
            "Instructions for updating:\n",
            "Create a `tf.sparse.SparseTensor` and use `tf.sparse.to_dense` instead.\n",
            "INFO:__main__:Exported Tensorflow proto file to /content/model.meta\n"
          ],
          "name": "stderr"
        }
      ]
    },
    {
      "cell_type": "code",
      "metadata": {
        "id": "39pzmF4ifi4f",
        "colab_type": "code",
        "colab": {}
      },
      "source": [
        "import os"
      ],
      "execution_count": 0,
      "outputs": []
    },
    {
      "cell_type": "code",
      "metadata": {
        "id": "I6a5HJ3AaUKS",
        "colab_type": "code",
        "colab": {
          "base_uri": "https://localhost:8080/",
          "height": 35
        },
        "outputId": "74caec8e-f9dc-468f-8e7e-c1b9ca67d45c"
      },
      "source": [
        "input_tensors ## batchsize, channel, img_size_of_row, img_size_of_col"
      ],
      "execution_count": 9,
      "outputs": [
        {
          "output_type": "execute_result",
          "data": {
            "text/plain": [
              "{'test_input': <tf.Tensor 'test_input:0' shape=(64, 3, 224, 224) dtype=float32>}"
            ]
          },
          "metadata": {
            "tags": []
          },
          "execution_count": 9
        }
      ]
    },
    {
      "cell_type": "code",
      "metadata": {
        "id": "EmRh35PcaXLU",
        "colab_type": "code",
        "colab": {
          "base_uri": "https://localhost:8080/",
          "height": 35
        },
        "outputId": "495264a5-0c53-42ac-af2b-e3d215ea2cff"
      },
      "source": [
        "output_tensors ## batchsize, labels"
      ],
      "execution_count": 13,
      "outputs": [
        {
          "output_type": "execute_result",
          "data": {
            "text/plain": [
              "{'test_output': <tf.Tensor 'add_18:0' shape=(64, 14) dtype=float32>}"
            ]
          },
          "metadata": {
            "tags": []
          },
          "execution_count": 13
        }
      ]
    }
  ]
}