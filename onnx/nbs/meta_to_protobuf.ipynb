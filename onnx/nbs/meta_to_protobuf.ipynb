{
  "nbformat": 4,
  "nbformat_minor": 0,
  "metadata": {
    "colab": {
      "name": "meta_to_ protobuf.ipynb",
      "provenance": []
    },
    "kernelspec": {
      "name": "python3",
      "display_name": "Python 3"
    }
  },
  "cells": [
    {
      "cell_type": "code",
      "metadata": {
        "id": "dSkNsH0RhXMW",
        "colab_type": "code",
        "colab": {
          "base_uri": "https://localhost:8080/",
          "height": 64
        },
        "outputId": "36126d2f-9625-416f-be24-ad4b4ac0b727"
      },
      "source": [
        "import tensorflow as tf"
      ],
      "execution_count": 1,
      "outputs": [
        {
          "output_type": "display_data",
          "data": {
            "text/html": [
              "<p style=\"color: red;\">\n",
              "The default version of TensorFlow in Colab will switch to TensorFlow 2.x on the 27th of March, 2020.<br>\n",
              "We recommend you <a href=\"https://www.tensorflow.org/guide/migrate\" target=\"_blank\">upgrade</a> now\n",
              "or ensure your notebook will continue to use TensorFlow 1.x via the <code>%tensorflow_version 1.x</code> magic:\n",
              "<a href=\"https://colab.research.google.com/notebooks/tensorflow_version.ipynb\" target=\"_blank\">more info</a>.</p>\n"
            ],
            "text/plain": [
              "<IPython.core.display.HTML object>"
            ]
          },
          "metadata": {
            "tags": []
          }
        }
      ]
    },
    {
      "cell_type": "code",
      "metadata": {
        "id": "x7W5oYOUoTqe",
        "colab_type": "code",
        "colab": {}
      },
      "source": [
        "from tensorflow.python.saved_model import utils as smutils"
      ],
      "execution_count": 0,
      "outputs": []
    },
    {
      "cell_type": "code",
      "metadata": {
        "id": "aLCp5PxVod8n",
        "colab_type": "code",
        "colab": {}
      },
      "source": [
        "from tensorflow.python.saved_model import signature_constants\n",
        "from tensorflow.python.saved_model import signature_def_utils\n",
        "from tensorflow.python.saved_model import tag_constants"
      ],
      "execution_count": 0,
      "outputs": []
    },
    {
      "cell_type": "code",
      "metadata": {
        "id": "CoUO3ruqpQq0",
        "colab_type": "code",
        "colab": {}
      },
      "source": [
        "import logging"
      ],
      "execution_count": 0,
      "outputs": []
    },
    {
      "cell_type": "code",
      "metadata": {
        "id": "jRCCOzMXnuI0",
        "colab_type": "code",
        "colab": {}
      },
      "source": [
        "from pathlib import Path\n",
        "meta_path = Path('/content/model.meta')\n",
        "export_dir = Path('/content/')"
      ],
      "execution_count": 0,
      "outputs": []
    },
    {
      "cell_type": "code",
      "metadata": {
        "id": "IFhJ17GZhaOc",
        "colab_type": "code",
        "colab": {}
      },
      "source": [
        "input_tensor = tf.placeholder(dtype=tf.float32,\n",
        "                              shape=(64,32,224,224), name='test_input')"
      ],
      "execution_count": 0,
      "outputs": []
    },
    {
      "cell_type": "code",
      "metadata": {
        "id": "Va07Qnj_i6-O",
        "colab_type": "code",
        "colab": {}
      },
      "source": [
        "input_dict = {'test_input':input_tensor}"
      ],
      "execution_count": 0,
      "outputs": []
    },
    {
      "cell_type": "code",
      "metadata": {
        "id": "Kr-0LyCGjEjh",
        "colab_type": "code",
        "colab": {
          "base_uri": "https://localhost:8080/",
          "height": 35
        },
        "outputId": "cda992e1-f057-4159-bc1b-877ab1e38bb4"
      },
      "source": [
        "input_dict"
      ],
      "execution_count": 25,
      "outputs": [
        {
          "output_type": "execute_result",
          "data": {
            "text/plain": [
              "{'test_input': <tf.Tensor 'test_input:0' shape=(64, 32, 224, 224) dtype=float32>}"
            ]
          },
          "metadata": {
            "tags": []
          },
          "execution_count": 25
        }
      ]
    },
    {
      "cell_type": "code",
      "metadata": {
        "id": "6oaYBzv3iHQ9",
        "colab_type": "code",
        "colab": {}
      },
      "source": [
        "output_tensors = tf.placeholder(dtype=tf.float32, shape=(64,14), name='add_18')"
      ],
      "execution_count": 0,
      "outputs": []
    },
    {
      "cell_type": "code",
      "metadata": {
        "id": "Xapj_7vijY0-",
        "colab_type": "code",
        "colab": {}
      },
      "source": [
        "output_dict = {'test_output':output_tensors}"
      ],
      "execution_count": 0,
      "outputs": []
    },
    {
      "cell_type": "code",
      "metadata": {
        "id": "mWjPOfTHj4Ra",
        "colab_type": "code",
        "colab": {
          "base_uri": "https://localhost:8080/",
          "height": 35
        },
        "outputId": "6c7de2f7-4a07-4f0d-9766-d1972d787446"
      },
      "source": [
        "output_dict"
      ],
      "execution_count": 23,
      "outputs": [
        {
          "output_type": "execute_result",
          "data": {
            "text/plain": [
              "{'test_output': <tf.Tensor 'add_18:0' shape=(64, 14) dtype=float32>}"
            ]
          },
          "metadata": {
            "tags": []
          },
          "execution_count": 23
        }
      ]
    },
    {
      "cell_type": "markdown",
      "metadata": {
        "id": "-jhSplOXkF0V",
        "colab_type": "text"
      },
      "source": [
        "---- export for serving"
      ]
    },
    {
      "cell_type": "code",
      "metadata": {
        "id": "N519qR6Uo1RA",
        "colab_type": "code",
        "colab": {}
      },
      "source": [
        "export_dir = '/content/export' #some folder which is not existed or empty"
      ],
      "execution_count": 0,
      "outputs": []
    },
    {
      "cell_type": "code",
      "metadata": {
        "id": "_vlqLzDapNS7",
        "colab_type": "code",
        "colab": {}
      },
      "source": [
        "log = logging.getLogger(__name__)\n",
        "logging.basicConfig(level=logging.INFO)"
      ],
      "execution_count": 0,
      "outputs": []
    },
    {
      "cell_type": "code",
      "metadata": {
        "id": "CZFnauEnpp-K",
        "colab_type": "code",
        "colab": {}
      },
      "source": [
        "!ls /content/export/variables"
      ],
      "execution_count": 0,
      "outputs": []
    },
    {
      "cell_type": "code",
      "metadata": {
        "id": "hxj2kU6FkHty",
        "colab_type": "code",
        "colab": {}
      },
      "source": [
        "def export_for_serving(meta_path, export_dir, input_tensors, output_tensors):\n",
        "    \"\"\"\n",
        "    Exports the Tensorflow .meta model to a frozen .pb Tensorflow serving\n",
        "       format.\n",
        "    :param meta_path: string, Path to the .meta TF proto file.\n",
        "    :param export_dir: string, Path to directory where the serving model will\n",
        "        be exported.\n",
        "    :param input_tensor: dict, Input tensors dictionary of\n",
        "        {name: TF placeholder} structure.\n",
        "    :param output_tensors: dict, Output tensors dictionary of {name: TF tensor}\n",
        "        structure.\n",
        "    \"\"\"\n",
        "    g = tf.Graph()\n",
        "    sess = tf.Session(config=tf.ConfigProto(allow_soft_placement=True))\n",
        "    graph_def = tf.GraphDef()\n",
        "\n",
        "    with g.as_default():\n",
        "        with open(meta_path, \"rb\") as f:\n",
        "            graph_def.ParseFromString(f.read())\n",
        "\n",
        "        # name argument must explicitly be set to an empty string, otherwise\n",
        "        # TF will prepend an `import` scope name on all operations\n",
        "        tf.import_graph_def(graph_def, name=\"\")\n",
        "\n",
        "        tensor_info_inputs = {name: smutils.build_tensor_info(in_tensor)\n",
        "                              for name, in_tensor in input_tensors.items()}\n",
        "\n",
        "        tensor_info_outputs = {name: smutils.build_tensor_info(out_tensor)\n",
        "                               for name, out_tensor in output_tensors.items()}\n",
        "\n",
        "        prediction_signature = signature_def_utils.build_signature_def(\n",
        "            inputs=tensor_info_inputs,\n",
        "            outputs=tensor_info_outputs,\n",
        "            method_name=signature_constants.PREDICT_METHOD_NAME)\n",
        "\n",
        "        builder = tf.saved_model.builder.SavedModelBuilder(export_dir)\n",
        "        builder.add_meta_graph_and_variables(\n",
        "            sess, [tag_constants.SERVING],\n",
        "            signature_def_map={\"predict_images\": prediction_signature})\n",
        "        builder.save()\n",
        "\n",
        "        log.info(\"Input info:\\n{}\".format(tensor_info_inputs))\n",
        "        log.info(\"Output info:\\n{}\".format(tensor_info_outputs))"
      ],
      "execution_count": 0,
      "outputs": []
    },
    {
      "cell_type": "code",
      "metadata": {
        "id": "Pdc2gdTDn7Ly",
        "colab_type": "code",
        "colab": {
          "base_uri": "https://localhost:8080/",
          "height": 639
        },
        "outputId": "35794150-d049-4df9-8c50-917c4dad9f63"
      },
      "source": [
        "export_for_serving(meta_path, export_dir, input_dict, output_dict)"
      ],
      "execution_count": 49,
      "outputs": [
        {
          "output_type": "stream",
          "text": [
            "INFO:tensorflow:No assets to save.\n"
          ],
          "name": "stdout"
        },
        {
          "output_type": "stream",
          "text": [
            "INFO:tensorflow:No assets to save.\n"
          ],
          "name": "stderr"
        },
        {
          "output_type": "stream",
          "text": [
            "INFO:tensorflow:No assets to write.\n"
          ],
          "name": "stdout"
        },
        {
          "output_type": "stream",
          "text": [
            "INFO:tensorflow:No assets to write.\n"
          ],
          "name": "stderr"
        },
        {
          "output_type": "stream",
          "text": [
            "INFO:tensorflow:SavedModel written to: /content/export/saved_model.pb\n"
          ],
          "name": "stdout"
        },
        {
          "output_type": "stream",
          "text": [
            "INFO:tensorflow:SavedModel written to: /content/export/saved_model.pb\n",
            "INFO:__main__:Input info:\n",
            "{'test_input': name: \"test_input:0\"\n",
            "dtype: DT_FLOAT\n",
            "tensor_shape {\n",
            "  dim {\n",
            "    size: 64\n",
            "  }\n",
            "  dim {\n",
            "    size: 32\n",
            "  }\n",
            "  dim {\n",
            "    size: 224\n",
            "  }\n",
            "  dim {\n",
            "    size: 224\n",
            "  }\n",
            "}\n",
            "}\n",
            "INFO:__main__:Output info:\n",
            "{'test_output': name: \"add_18:0\"\n",
            "dtype: DT_FLOAT\n",
            "tensor_shape {\n",
            "  dim {\n",
            "    size: 64\n",
            "  }\n",
            "  dim {\n",
            "    size: 14\n",
            "  }\n",
            "}\n",
            "}\n"
          ],
          "name": "stderr"
        }
      ]
    },
    {
      "cell_type": "code",
      "metadata": {
        "id": "o481QsRHkHz1",
        "colab_type": "code",
        "colab": {}
      },
      "source": [
        ""
      ],
      "execution_count": 0,
      "outputs": []
    }
  ]
}